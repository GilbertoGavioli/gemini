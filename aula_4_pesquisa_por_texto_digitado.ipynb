{
  "nbformat": 4,
  "nbformat_minor": 0,
  "metadata": {
    "colab": {
      "provenance": [],
      "authorship_tag": "ABX9TyNt9jgxVDatbrbUblJp34Ai",
      "include_colab_link": true
    },
    "kernelspec": {
      "name": "python3",
      "display_name": "Python 3"
    },
    "language_info": {
      "name": "python"
    }
  },
  "cells": [
    {
      "cell_type": "markdown",
      "metadata": {
        "id": "view-in-github",
        "colab_type": "text"
      },
      "source": [
        "<a href=\"https://colab.research.google.com/github/GilbertoGavioli/gemini/blob/main/aula_4_pesquisa_por_texto_digitado.ipynb\" target=\"_parent\"><img src=\"https://colab.research.google.com/assets/colab-badge.svg\" alt=\"Open In Colab\"/></a>"
      ]
    },
    {
      "cell_type": "code",
      "source": [
        "pip install google-generativeai"
      ],
      "metadata": {
        "id": "CYKCt9C6MxGd"
      },
      "execution_count": null,
      "outputs": []
    },
    {
      "cell_type": "code",
      "execution_count": null,
      "metadata": {
        "id": "9p2o2VA1J081"
      },
      "outputs": [],
      "source": [
        "import google.generativeai as genai\n"
      ]
    },
    {
      "cell_type": "code",
      "source": [
        "genai.configure(api_key='')"
      ],
      "metadata": {
        "id": "YxHO4MReK7G0"
      },
      "execution_count": null,
      "outputs": []
    },
    {
      "cell_type": "code",
      "source": [
        "generation_config = {\n",
        "  \"temperature\": 1,\n",
        "  \"top_p\": 0.95,\n",
        "  \"top_k\": 0,\n",
        "  \"max_output_tokens\": 8192,\n",
        "}\n",
        "\n",
        "safety_settings = [\n",
        "  {\n",
        "    \"category\": \"HARM_CATEGORY_HARASSMENT\",\n",
        "    \"threshold\": \"BLOCK_MEDIUM_AND_ABOVE\"\n",
        "  },\n",
        "  {\n",
        "    \"category\": \"HARM_CATEGORY_HATE_SPEECH\",\n",
        "    \"threshold\": \"BLOCK_MEDIUM_AND_ABOVE\"\n",
        "  },\n",
        "  {\n",
        "    \"category\": \"HARM_CATEGORY_SEXUALLY_EXPLICIT\",\n",
        "    \"threshold\": \"BLOCK_MEDIUM_AND_ABOVE\"\n",
        "  },\n",
        "  {\n",
        "    \"category\": \"HARM_CATEGORY_DANGEROUS_CONTENT\",\n",
        "    \"threshold\": \"BLOCK_MEDIUM_AND_ABOVE\"\n",
        "  },\n",
        "]\n",
        "\n",
        "model = genai.GenerativeModel(model_name=\"gemini-1.5-pro-latest\",\n",
        "                              generation_config=generation_config,\n",
        "                              safety_settings=safety_settings)\n",
        "\n",
        "convo = model.start_chat(history=[\n",
        "     {\n",
        "    \"role\": \"user\",\n",
        "    \"parts\": [\"analise os sentimento desta frase: Estou muito nervoso com o que está acontecento\"]\n",
        "  },\n",
        "      {\n",
        "    \"role\": \"model\",\n",
        "    \"parts\": [\"O sentimento nesse tweet é **NEGATIVO**. \\n\\nA frase \\\"Estou muito nervoso\\\" expressa um estado emocional negativo, caracterizado por ansiedade, apreensão e medo.\"]\n",
        "  },\n",
        "      {\n",
        "    \"role\": \"user\",\n",
        "    \"parts\": [\"Traduza a frase para chines: Eu estou feliz\"]\n",
        "  }\n",
        "])"
      ],
      "metadata": {
        "id": "Mr23An32Omn_"
      },
      "execution_count": null,
      "outputs": []
    },
    {
      "cell_type": "code",
      "source": [
        "user_input = input(\"Digite uma frase ou pergunta:\")\n",
        "\n",
        "convo.send_message(user_input)\n",
        "print(convo.last.text)"
      ],
      "metadata": {
        "colab": {
          "base_uri": "https://localhost:8080/",
          "height": 109
        },
        "id": "3yKnmdUqLG4X",
        "outputId": "a3d418ca-6d18-4e6d-86ff-13c5778d145b"
      },
      "execution_count": null,
      "outputs": [
        {
          "output_type": "stream",
          "name": "stdout",
          "text": [
            "Digite uma pergunta:quantos anos eu tenho?\n",
            "Não tenho como saber quantos anos você tem, pois não tenho acesso a informações pessoais. 😉 \n",
            "\n",
            "Se você quiser me contar, ficarei feliz em saber! \n",
            "\n"
          ]
        }
      ]
    }
  ]
}