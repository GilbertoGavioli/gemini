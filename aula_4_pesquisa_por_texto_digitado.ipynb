{
  "cells": [
    {
      "cell_type": "markdown",
      "metadata": {
        "colab_type": "text",
        "id": "view-in-github"
      },
      "source": [
        "<a href=\"https://colab.research.google.com/github/GilbertoGavioli/gemini/blob/main/aula_4_pesquisa_por_texto_digitado.ipynb\" target=\"_parent\"><img src=\"https://colab.research.google.com/assets/colab-badge.svg\" alt=\"Open In Colab\"/></a>"
      ]
    },
    {
      "cell_type": "code",
      "execution_count": null,
      "metadata": {
        "colab": {
          "base_uri": "https://localhost:8080/"
        },
        "id": "CYKCt9C6MxGd",
        "outputId": "c2be3913-6259-4288-b9e9-b5c6bc156bc3"
      },
      "outputs": [],
      "source": [
        "#instalar a biblioteca do google \n",
        "pip install google-generativeai"
      ]
    },
    {
      "cell_type": "code",
      "execution_count": 2,
      "metadata": {
        "id": "9p2o2VA1J081"
      },
      "outputs": [],
      "source": [
        "#importar as biblioteca\n",
        "import google.generativeai as genai\n"
      ]
    },
    {
      "cell_type": "code",
      "execution_count": 3,
      "metadata": {
        "id": "YxHO4MReK7G0"
      },
      "outputs": [],
      "source": [
        "#Configura a chave\n",
        "genai.configure(api_key='')  # @param {type: \"string\"}"
      ]
    },
    {
      "cell_type": "markdown",
      "metadata": {},
      "source": []
    },
    {
      "cell_type": "code",
      "execution_count": 15,
      "metadata": {
        "id": "Mr23An32Omn_"
      },
      "outputs": [],
      "source": [
        "generation_config = {\n",
        "  \"temperature\": 1,\n",
        "  \"top_p\": 0.95,\n",
        "  \"top_k\": 0,\n",
        "  \"max_output_tokens\": 8192,\n",
        "}\n",
        "\n",
        "safety_settings = [\n",
        "  {\n",
        "    \"category\": \"HARM_CATEGORY_HARASSMENT\",\n",
        "    \"threshold\": \"BLOCK_MEDIUM_AND_ABOVE\"\n",
        "  },\n",
        "  {\n",
        "    \"category\": \"HARM_CATEGORY_HATE_SPEECH\",\n",
        "    \"threshold\": \"BLOCK_MEDIUM_AND_ABOVE\"\n",
        "  },\n",
        "  {\n",
        "    \"category\": \"HARM_CATEGORY_SEXUALLY_EXPLICIT\",\n",
        "    \"threshold\": \"BLOCK_MEDIUM_AND_ABOVE\"\n",
        "  },\n",
        "  {\n",
        "    \"category\": \"HARM_CATEGORY_DANGEROUS_CONTENT\",\n",
        "    \"threshold\": \"BLOCK_MEDIUM_AND_ABOVE\"\n",
        "  },\n",
        "]\n",
        "\n",
        "model = genai.GenerativeModel(model_name=\"gemini-1.5-pro-latest\",\n",
        "                              generation_config=generation_config,\n",
        "                              safety_settings=safety_settings)\n",
        "\n",
        "convo = model.start_chat(history=[\n",
        "     {\n",
        "    \"role\": \"user\",\n",
        "    \"parts\": [\"analise os sentimento desta frase: Estou muito nervoso com o que está acontecento\"]\n",
        "  },\n",
        "      {\n",
        "    \"role\": \"model\",\n",
        "    \"parts\": [\"O sentimento nesse tweet é **NEGATIVO**. \\n\\nA frase \\\"Estou muito nervoso\\\" expressa um estado emocional negativo, caracterizado por ansiedade, apreensão e medo.\"]\n",
        "  },\n",
        "      {\n",
        "    \"role\": \"user\",\n",
        "    \"parts\": [\"Traduza a frase para chines: Eu estou feliz\"]\n",
        "  }\n",
        "])"
      ]
    },
    {
      "cell_type": "code",
      "execution_count": null,
      "metadata": {
        "colab": {
          "base_uri": "https://localhost:8080/",
          "height": 72
        },
        "id": "3yKnmdUqLG4X",
        "outputId": "36ddc4e4-93bf-4682-dd48-edcd1ffc0590"
      },
      "outputs": [],
      "source": [
        "user_input = input(\"Digite uma frase ou pergunta:\")\n",
        "\n",
        "convo.send_message(user_input)\n",
        "print(convo.last.text)"
      ]
    },
    {
      "cell_type": "code",
      "execution_count": null,
      "metadata": {
        "id": "QfBms_M8ic2s"
      },
      "outputs": [],
      "source": []
    }
  ],
  "metadata": {
    "colab": {
      "authorship_tag": "ABX9TyPBWZwwNcOlye+/u/EMw5Gb",
      "include_colab_link": true,
      "provenance": []
    },
    "kernelspec": {
      "display_name": "Python 3",
      "name": "python3"
    },
    "language_info": {
      "name": "python"
    }
  },
  "nbformat": 4,
  "nbformat_minor": 0
}
